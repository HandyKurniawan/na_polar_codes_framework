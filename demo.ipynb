{
 "cells": [
  {
   "cell_type": "code",
   "execution_count": 18,
   "id": "b0847367-9ce8-49b3-b801-d8a590f3676f",
   "metadata": {},
   "outputs": [],
   "source": [
    "from NAPC import NAPC, conf\n",
    "import mysql.connector\n",
    "import pandas as pd\n",
    "\n",
    "# MySQL connection parameters\n",
    "mysql_config = {\n",
    "    'user': 'handy',\n",
    "    'password': 'handy',\n",
    "    'host': 'localhost',\n",
    "    'database': 'framework_2'\n",
    "}\n",
    "\n",
    "# update with your IBM Token\n",
    "token = \"put_your_ibm_token_here\""
   ]
  },
  {
   "cell_type": "markdown",
   "id": "6c8798b4-ad06-401f-b8c0-545f0c90c650",
   "metadata": {},
   "source": [
    "# Running to the noisy simulator"
   ]
  },
  {
   "cell_type": "markdown",
   "id": "833af039-c7a5-44f6-880a-11004daf0ebc",
   "metadata": {},
   "source": [
    "## Example of code of length N=16 (n=3) for logical $|+\\rangle$"
   ]
  },
  {
   "cell_type": "code",
   "execution_count": 2,
   "id": "db8eda26-b84c-4035-9a49-d1a0cc42f769",
   "metadata": {},
   "outputs": [
    {
     "name": "stdout",
     "output_type": "stream",
     "text": [
      "Connecting to quantum service...\n",
      "Saving IBM Account...\n",
      "Retrieving the real backend information of ibm_sherbrooke...\n"
     ]
    }
   ],
   "source": [
    "# initialize the object using the provided token\n",
    "q = NAPC(runs=conf.runs, token=token)"
   ]
  },
  {
   "cell_type": "code",
   "execution_count": 2,
   "id": "439f6807-8b64-47b8-b1e0-346394254043",
   "metadata": {},
   "outputs": [
    {
     "name": "stdout",
     "output_type": "stream",
     "text": [
      "Connecting to quantum service...\n",
      "Saving IBM Account...\n",
      "Retrieving the real backend information of ibm_sherbrooke...\n",
      "./QEC/polar_code/n3/x\n",
      "Start running the simulator...\n",
      "qiskit_3 0.1\n",
      "qiskit_3 1.0\n",
      "triq_lcd_sabre 0.1\n",
      "triq_lcd_sabre 1.0\n",
      "Total send to local simulator : 2\n",
      "Running to Local Simulator with batch id: 1 ... \n",
      "Sent!\n",
      "Running to Local Simulator with batch id: 2 ... \n",
      "Sent!\n"
     ]
    }
   ],
   "source": [
    "# initialize the object using the provided token\n",
    "q = NAPC(runs=conf.runs, token=token)\n",
    "\n",
    "# command to run the update TriQ's reliability matrix for the noise-aware routing\n",
    "q.update_hardware_configs()\n",
    "\n",
    "# then specify which polar codes we want to run, for example polar codes for logical + with length N=16 (n=3)\n",
    "file_path=\"./QEC/polar_code/n3/x\"\n",
    "\n",
    "qasm_files = q.get_qasm_files_from_path(file_path)\n",
    "\n",
    "# then decide which compilation to be run Qiskit-3 or S-TriQ (triq_lcd_sabre)\n",
    "compilations=[\"qiskit_3\", \"triq_lcd_sabre\"]\n",
    "\n",
    "# this is the setup to enable mid measurement for TriQ\n",
    "triq_measurement_type=\"polar_meas\"\n",
    "\n",
    "# choosing the noise level\n",
    "noise_levels = [0.1, 1.0]\n",
    "\n",
    "# setup the number of shots\n",
    "shots = 1000\n",
    "\n",
    "# then we setup the backend and run the simulator\n",
    "q.set_backend(program_type=\"sampler\", shots=shots)\n",
    "q.run_simulator(\"sampler\", qasm_files, compilations, noise_levels, shots)"
   ]
  },
  {
   "cell_type": "code",
   "execution_count": 5,
   "id": "ae3ba20a-8c0e-418f-8d93-e86c721ac2e6",
   "metadata": {},
   "outputs": [
    {
     "name": "stdout",
     "output_type": "stream",
     "text": [
      "Pending jobs:  0\n",
      "Executed jobs : 2\n",
      "Getting qasm for : 1 simulator\n",
      "get metrics: n = 3 , lstate = X\n",
      "number of discarded states (invalid measurement results) =  2.0\n",
      " number of accepted states   (valid measurement results) =  998.0\n",
      "        number of logical errors on the accepted states  =  4\n",
      "polar_all_meas_n3_x 0.1 qiskit_3 998.0 4 0 0.9959919839679359\n",
      "get metrics: n = 3 , lstate = X\n",
      "number of discarded states (invalid measurement results) =  64.0\n",
      " number of accepted states   (valid measurement results) =  936.0\n",
      "        number of logical errors on the accepted states  =  4\n",
      "polar_all_meas_n3_x 1.0 qiskit_3 936.0 4 0 0.9957264957264957\n",
      "Getting qasm for : 2 simulator\n",
      "get metrics: n = 3 , lstate = X\n",
      "number of discarded states (invalid measurement results) =  4.0\n",
      " number of accepted states   (valid measurement results) =  996.0\n",
      "        number of logical errors on the accepted states  =  4\n",
      "polar_all_meas_n3_x 0.1 qiskit_3 996.0 4 0 0.9959839357429718\n",
      "get metrics: n = 3 , lstate = X\n",
      "number of discarded states (invalid measurement results) =  56.0\n",
      " number of accepted states   (valid measurement results) =  944.0\n",
      "        number of logical errors on the accepted states  =  4\n",
      "polar_all_meas_n3_x 1.0 qiskit_3 944.0 4 0 0.9957627118644068\n",
      "get metrics: n = 3 , lstate = X\n",
      "number of discarded states (invalid measurement results) =  2.0\n",
      " number of accepted states   (valid measurement results) =  998.0\n",
      "        number of logical errors on the accepted states  =  4\n",
      "polar_all_meas_n3_x 0.1 sabre_triq_lcd 998.0 4 0 0.9959919839679359\n",
      "get metrics: n = 3 , lstate = X\n",
      "number of discarded states (invalid measurement results) =  49.0\n",
      " number of accepted states   (valid measurement results) =  951.0\n",
      "        number of logical errors on the accepted states  =  4\n",
      "polar_all_meas_n3_x 1.0 sabre_triq_lcd 951.0 4 0 0.9957939011566772\n"
     ]
    }
   ],
   "source": [
    "# get the result and calculate the metric\n",
    "q.get_qiskit_result(\"simulator\")"
   ]
  },
  {
   "cell_type": "markdown",
   "id": "734b923e-b453-404d-b6cf-c4d386e29436",
   "metadata": {},
   "source": [
    "**After this, you can check the result in the database**"
   ]
  },
  {
   "cell_type": "markdown",
   "id": "17cabc9c-37fd-40fc-836b-9358c418708d",
   "metadata": {},
   "source": [
    "# Running to the real backend"
   ]
  },
  {
   "cell_type": "markdown",
   "id": "9059cbe0-d166-4379-ae1f-107bfb6ec1dd",
   "metadata": {},
   "source": [
    "## Example of code of length N=32 (n=4) for logical $|0\\rangle$"
   ]
  },
  {
   "cell_type": "code",
   "execution_count": 6,
   "id": "435f6504-aef0-4d22-9297-bd97f481d044",
   "metadata": {},
   "outputs": [
    {
     "name": "stdout",
     "output_type": "stream",
     "text": [
      "Connecting to quantum service...\n",
      "Saving IBM Account...\n",
      "Retrieving the real backend information of ibm_sherbrooke...\n",
      "./QEC/polar_code/n4/z\n"
     ]
    }
   ],
   "source": [
    "# initialize the object using the provided token\n",
    "q = NAPC(runs=conf.runs, token=token)\n",
    "\n",
    "# command to run the update TriQ's reliability matrix for the noise-aware routing\n",
    "q.update_hardware_configs()\n",
    "\n",
    "# then specify which polar codes we want to run, for example polar codes for logical + with length N=16 (n=3)\n",
    "file_path=\"./QEC/polar_code/n4/z\"\n",
    "\n",
    "qasm_files = q.get_qasm_files_from_path(file_path)\n",
    "\n",
    "# then decide which compilation to be run Qiskit-3 or S-TriQ (triq_lcd_sabre)\n",
    "compilations=[\"qiskit_3\", \"triq_lcd_sabre\"]\n",
    "\n",
    "# this is the setup to enable mid measurement for TriQ\n",
    "triq_measurement_type=\"polar_meas\"\n",
    "\n",
    "# setup the number of shots\n",
    "shots = 1000\n",
    "\n",
    "# then we setup the backend and run the simulator\n",
    "q.set_backend(program_type=\"sampler\", shots=shots)\n",
    "\n"
   ]
  },
  {
   "cell_type": "markdown",
   "id": "d8e0ca5c-4bed-4352-96ea-e2d192804de6",
   "metadata": {},
   "source": [
    "**The only different with sending to the simulator is this part**"
   ]
  },
  {
   "cell_type": "code",
   "execution_count": 7,
   "id": "6f8ab977-4a16-4424-8bd2-76e10eceaf59",
   "metadata": {},
   "outputs": [
    {
     "name": "stdout",
     "output_type": "stream",
     "text": [
      "Compiling circuit: polar_all_meas_n4 for compilation: qiskit_3\n",
      "Compiling circuit: polar_all_meas_n4 for compilation: triq_lcd_sabre\n",
      "Total send to real backend : 1\n",
      "Total no of circuits : 2\n",
      "Sending to ibm_sherbrooke with batch id: 3 ... \n",
      "Sent!\n"
     ]
    }
   ],
   "source": [
    "q.send_to_real_backend(\"sampler\", qasm_files, compilations, shots=shots)"
   ]
  },
  {
   "cell_type": "markdown",
   "id": "6043379e-bf46-4a89-93a6-4ed95f47d3a4",
   "metadata": {},
   "source": [
    "For other code of lengths simulation, see the file \"**run_simulation.py**\" and \"**run_to_real_backend.py**\""
   ]
  },
  {
   "cell_type": "markdown",
   "id": "f7c8d1ac-cf3a-49bd-9975-43355c42135b",
   "metadata": {},
   "source": [
    "# Accessing the result in the database"
   ]
  },
  {
   "cell_type": "code",
   "execution_count": 15,
   "id": "eac352a5-3122-4be0-8e8f-191926d340fb",
   "metadata": {},
   "outputs": [],
   "source": [
    "conn = mysql.connector.connect(**mysql_config)\n",
    "cursor = conn.cursor()\n",
    "\n",
    "sql = \"\"\"\n",
    "SELECT header_id, circuit_name, compilation_name, noise_level, \n",
    "polar_count_accept, polar_count_logerror, polar_count_undecided, success_rate_polar, total_two_qubit_gate,\n",
    "initial_mapping\n",
    "FROM result WHERE header_id = 2;\n",
    "\"\"\".format(1, \"ibm_sherbrooke\")\n",
    "\n",
    " # insert to circuit\n",
    "cursor.execute(sql)\n",
    "\n",
    "results = cursor.fetchall()\n",
    "\n",
    "cursor.close()\n",
    "conn.close()"
   ]
  },
  {
   "cell_type": "code",
   "execution_count": 19,
   "id": "c812af96-6c26-4f81-8bb1-0df5eb478cfd",
   "metadata": {},
   "outputs": [],
   "source": [
    "header_id = []\n",
    "circuit_name = []\n",
    "compilation_name = []\n",
    "noise_level = []\n",
    "count_accept = []\n",
    "count_logerror = []\n",
    "count_undecided = []\n",
    "success_polar = []\n",
    "total_gate_cx = []\n",
    "initial_mappings = []\n",
    "\n",
    "\n",
    "for res in results:\n",
    "    _header_id, _circuit_name, _compilation_name , _noise_level, _count_accept, _count_logerror, \\\n",
    "    _count_undecided, _success_polar, _total_gate_cx, _initial_mappings = res\n",
    "\n",
    "    header_id.append(_header_id)\n",
    "    circuit_name.append(_circuit_name)\n",
    "    compilation_name.append(_compilation_name)\n",
    "    noise_level.append(float(_noise_level))\n",
    "    count_accept.append(_count_accept)\n",
    "    count_logerror.append(_count_logerror)\n",
    "    count_undecided.append(_count_undecided)\n",
    "    success_polar.append(1-float(_success_polar))\n",
    "    total_gate_cx.append(float(_total_gate_cx))\n",
    "    initial_mappings.append(_initial_mappings)\n",
    "\n",
    "df = pd.DataFrame({\n",
    "    'header_id': header_id,\n",
    "    'circuit_name': circuit_name,\n",
    "    'compilation_name': compilation_name,\n",
    "    'noise_level': noise_level,\n",
    "    'count_accept': count_accept,\n",
    "    'count_logerror': count_logerror, \n",
    "    'count_undecided': count_undecided, \n",
    "    'success_polar': success_polar,\n",
    "    'total_gate_cx': total_gate_cx,\n",
    "    'noise_level': noise_level,\n",
    "    'initial_mappings': initial_mappings\n",
    "    })\n"
   ]
  },
  {
   "cell_type": "code",
   "execution_count": 28,
   "id": "1355e2bf-4ee1-45cd-b4c0-ea830e480e8e",
   "metadata": {},
   "outputs": [
    {
     "name": "stdout",
     "output_type": "stream",
     "text": [
      "+----+-------------+---------------------+--------------------+---------------+----------------+------------------+-------------------+-----------------+-----------------+------------------------------+\n",
      "|    |   header_id | circuit_name        | compilation_name   |   noise_level |   count_accept |   count_logerror |   count_undecided |   success_polar |   total_gate_cx | initial_mappings             |\n",
      "+====+=============+=====================+====================+===============+================+==================+===================+=================+=================+==============================+\n",
      "|  0 |           2 | polar_all_meas_n3_x | qiskit_3           |           0.1 |            996 |                4 |                 0 |        0.004016 |              11 | 123, 121, 122, 120, 118, 119 |\n",
      "+----+-------------+---------------------+--------------------+---------------+----------------+------------------+-------------------+-----------------+-----------------+------------------------------+\n",
      "|  1 |           2 | polar_all_meas_n3_x | qiskit_3           |           1   |            944 |                4 |                 0 |        0.004237 |              11 | 123, 121, 122, 120, 118, 119 |\n",
      "+----+-------------+---------------------+--------------------+---------------+----------------+------------------+-------------------+-----------------+-----------------+------------------------------+\n",
      "|  2 |           2 | polar_all_meas_n3_x | sabre_triq_lcd     |           0.1 |            998 |                4 |                 0 |        0.004008 |              11 | 123, 121, 122, 120, 118, 119 |\n",
      "+----+-------------+---------------------+--------------------+---------------+----------------+------------------+-------------------+-----------------+-----------------+------------------------------+\n",
      "|  3 |           2 | polar_all_meas_n3_x | sabre_triq_lcd     |           1   |            951 |                4 |                 0 |        0.004206 |              11 | 123, 121, 122, 120, 118, 119 |\n",
      "+----+-------------+---------------------+--------------------+---------------+----------------+------------------+-------------------+-----------------+-----------------+------------------------------+\n"
     ]
    }
   ],
   "source": [
    "print(df.head().to_markdown(tablefmt=\"grid\"))"
   ]
  },
  {
   "cell_type": "code",
   "execution_count": null,
   "id": "5c2f60c5-d753-42a7-9352-32950ee7d02e",
   "metadata": {},
   "outputs": [],
   "source": []
  }
 ],
 "metadata": {
  "kernelspec": {
   "display_name": "Python 3 (ipykernel)",
   "language": "python",
   "name": "python3"
  },
  "language_info": {
   "codemirror_mode": {
    "name": "ipython",
    "version": 3
   },
   "file_extension": ".py",
   "mimetype": "text/x-python",
   "name": "python",
   "nbconvert_exporter": "python",
   "pygments_lexer": "ipython3",
   "version": "3.10.12"
  }
 },
 "nbformat": 4,
 "nbformat_minor": 5
}
